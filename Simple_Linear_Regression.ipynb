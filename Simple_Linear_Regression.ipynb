{
 "cells": [
  {
   "cell_type": "markdown",
   "metadata": {
    "colab_type": "text",
    "id": "o2Bx7sKsJYcr"
   },
   "source": [
    "**First** : Let's Now Import the Packages that we are going to use "
   ]
  },
  {
   "cell_type": "code",
   "execution_count": 1,
   "metadata": {
    "colab": {},
    "colab_type": "code",
    "id": "D3bk89gcYR8m"
   },
   "outputs": [],
   "source": [
    "import numpy as np   # For Matrices Manipulations\n",
    "import pandas as pd  # For Data frames etc \n",
    "import xlrd  # For Excel Files"
   ]
  },
  {
   "cell_type": "markdown",
   "metadata": {
    "colab_type": "text",
    "id": "cwzEZCAtLX57"
   },
   "source": [
    "**Second** :  Type a Code to Read  The Excel File \n",
    "hint go and use `pd.read_excel`"
   ]
  },
  {
   "cell_type": "code",
   "execution_count": 2,
   "metadata": {
    "colab": {},
    "colab_type": "code",
    "id": "WX5s6BsA1CtE"
   },
   "outputs": [
    {
     "name": "stdout",
     "output_type": "stream",
     "text": [
      "*** No CODEPAGE record, no encoding_override: will use 'ascii'\n"
     ]
    },
    {
     "data": {
      "text/html": [
       "<div>\n",
       "<style scoped>\n",
       "    .dataframe tbody tr th:only-of-type {\n",
       "        vertical-align: middle;\n",
       "    }\n",
       "\n",
       "    .dataframe tbody tr th {\n",
       "        vertical-align: top;\n",
       "    }\n",
       "\n",
       "    .dataframe thead th {\n",
       "        text-align: right;\n",
       "    }\n",
       "</style>\n",
       "<table border=\"1\" class=\"dataframe\">\n",
       "  <thead>\n",
       "    <tr style=\"text-align: right;\">\n",
       "      <th></th>\n",
       "      <th>X</th>\n",
       "      <th>Y</th>\n",
       "    </tr>\n",
       "  </thead>\n",
       "  <tbody>\n",
       "    <tr>\n",
       "      <td>0</td>\n",
       "      <td>108</td>\n",
       "      <td>392.5</td>\n",
       "    </tr>\n",
       "    <tr>\n",
       "      <td>1</td>\n",
       "      <td>19</td>\n",
       "      <td>46.2</td>\n",
       "    </tr>\n",
       "    <tr>\n",
       "      <td>2</td>\n",
       "      <td>13</td>\n",
       "      <td>15.7</td>\n",
       "    </tr>\n",
       "    <tr>\n",
       "      <td>3</td>\n",
       "      <td>124</td>\n",
       "      <td>422.2</td>\n",
       "    </tr>\n",
       "    <tr>\n",
       "      <td>4</td>\n",
       "      <td>40</td>\n",
       "      <td>119.4</td>\n",
       "    </tr>\n",
       "    <tr>\n",
       "      <td>...</td>\n",
       "      <td>...</td>\n",
       "      <td>...</td>\n",
       "    </tr>\n",
       "    <tr>\n",
       "      <td>58</td>\n",
       "      <td>9</td>\n",
       "      <td>87.4</td>\n",
       "    </tr>\n",
       "    <tr>\n",
       "      <td>59</td>\n",
       "      <td>31</td>\n",
       "      <td>209.8</td>\n",
       "    </tr>\n",
       "    <tr>\n",
       "      <td>60</td>\n",
       "      <td>14</td>\n",
       "      <td>95.5</td>\n",
       "    </tr>\n",
       "    <tr>\n",
       "      <td>61</td>\n",
       "      <td>53</td>\n",
       "      <td>244.6</td>\n",
       "    </tr>\n",
       "    <tr>\n",
       "      <td>62</td>\n",
       "      <td>26</td>\n",
       "      <td>187.5</td>\n",
       "    </tr>\n",
       "  </tbody>\n",
       "</table>\n",
       "<p>63 rows × 2 columns</p>\n",
       "</div>"
      ],
      "text/plain": [
       "      X      Y\n",
       "0   108  392.5\n",
       "1    19   46.2\n",
       "2    13   15.7\n",
       "3   124  422.2\n",
       "4    40  119.4\n",
       "..  ...    ...\n",
       "58    9   87.4\n",
       "59   31  209.8\n",
       "60   14   95.5\n",
       "61   53  244.6\n",
       "62   26  187.5\n",
       "\n",
       "[63 rows x 2 columns]"
      ]
     },
     "execution_count": 2,
     "metadata": {},
     "output_type": "execute_result"
    }
   ],
   "source": [
    "df= pd.read_excel('Insurance.xls')\n",
    "df"
   ]
  },
  {
   "cell_type": "markdown",
   "metadata": {
    "colab_type": "text",
    "id": "ndOyFGg0LVDV"
   },
   "source": [
    "So this Data is about:-\n",
    "\n",
    "Auto Insurance in Sweden\n",
    "In the following data\n",
    "\n",
    "X = number of claims\n",
    "\n",
    "Y = total payment for all the claims in thousands of Swedish Kronor\n",
    "\n",
    "for geographical zones in Sweden\n",
    "Reference: Swedish Committee on Analysis of Risk Premium in Motor Insurance\n",
    "\n"
   ]
  },
  {
   "cell_type": "markdown",
   "metadata": {
    "colab_type": "text",
    "id": "N_1kH03mMHYD"
   },
   "source": [
    "**Third** Type a Code  that Change the Features and Labels  from pandas frame into Numpy Arrays.\n",
    "\n",
    "*40 rows only* for **Training** and the Rest for **Testing**\n",
    "hint : use `df.iloc`"
   ]
  },
  {
   "cell_type": "code",
   "execution_count": 3,
   "metadata": {
    "colab": {},
    "colab_type": "code",
    "id": "bVXC5ZIz3u1N"
   },
   "outputs": [],
   "source": [
    "X_train= df.iloc[:40,0].values\n",
    "y_train= df.iloc[:40,1].values\n",
    "X_test= df.iloc[40:,0].values\n",
    "y_test= df.iloc[40:,1].values"
   ]
  },
  {
   "cell_type": "markdown",
   "metadata": {
    "colab_type": "text",
    "id": "2m8PtSPjNC3a"
   },
   "source": [
    "**Fifth** Check the Type and Size of the Arrays you created by Printing them.\n",
    "hint Go and use :  `shape` , `type` "
   ]
  },
  {
   "cell_type": "code",
   "execution_count": 4,
   "metadata": {
    "colab": {},
    "colab_type": "code",
    "id": "PzKkHDR2NYOr"
   },
   "outputs": [
    {
     "name": "stdout",
     "output_type": "stream",
     "text": [
      "The Features to be trained on : (40,)\n",
      "The Labels to be trained on : (40,)\n",
      "The Features to be tested on : (23,)\n",
      "The Labels to be tested on : (23,)\n",
      "X_train type :  <class 'numpy.ndarray'> X_test type : <class 'numpy.ndarray'> y_train type : <class 'numpy.ndarray'> y_test type : <class 'numpy.ndarray'>\n"
     ]
    }
   ],
   "source": [
    "print('The Features to be trained on :', X_train.shape )\n",
    "print('The Labels to be trained on :', y_train.shape )\n",
    "print('The Features to be tested on :', X_test.shape )\n",
    "print('The Labels to be tested on :', y_test.shape )\n",
    "print('X_train type : ', type(X_train) , 'X_test type :',type(X_test) ,'y_train type :',type(y_train) , 'y_test type :',type(y_test) )"
   ]
  },
  {
   "cell_type": "markdown",
   "metadata": {
    "colab_type": "text",
    "id": "akZOUbc0OPhz"
   },
   "source": [
    "**sixth** Let me do this for you  but watch me properly, its for Visualization."
   ]
  },
  {
   "cell_type": "code",
   "execution_count": 6,
   "metadata": {
    "colab": {},
    "colab_type": "code",
    "id": "gjfIFHMp3pYl"
   },
   "outputs": [
    {
     "data": {
      "text/plain": [
       "<function matplotlib.pyplot.show(*args, **kw)>"
      ]
     },
     "execution_count": 6,
     "metadata": {},
     "output_type": "execute_result"
    },
    {
     "data": {
      "image/png": "[encoded data removed]",
      "text/plain": [
       "<Figure size 720x576 with 1 Axes>"
      ]
     },
     "metadata": {
      "needs_background": "light"
     },
     "output_type": "display_data"
    }
   ],
   "source": [
    "import matplotlib.pyplot as plt # A Great Package For Plotting and Visualization \n",
    "plt.figure(figsize=(10,8))     # The Plotting Window Size \n",
    "plt.title(' X vs Y Regression', fontsize=24 , fontstyle='italic')  # Title , Font size and Style \n",
    "plt.scatter(X_train ,y_train , alpha =0.5, label='Y')  # NOTE : Make Sure  x_train , y_train  IN Data Type ( Array )\n",
    "plt.show   # Showing the Result of plotting "
   ]
  },
  {
   "cell_type": "markdown",
   "metadata": {
    "colab_type": "text",
    "id": "7Tn1oPkjO_oF"
   },
   "source": [
    "Hungry for Statistics ?\n",
    "Okey Let's Go for it, But Do you even remember the Expressions?"
   ]
  },
  {
   "cell_type": "markdown",
   "metadata": {
    "colab_type": "text",
    "id": "-5GzNhIhP18j"
   },
   "source": [
    "**Seventh** ? I don't know how to type this  but i meant 8th\n",
    "Okey, Whatever Just Go and build a Function Mean Squared Error and call it `MSE()` That Takes a List of Actual Values and List of Predicted Values  then Returning the Mean Squared Error between them \n"
   ]
  },
  {
   "cell_type": "code",
   "execution_count": 7,
   "metadata": {
    "colab": {},
    "colab_type": "code",
    "id": "P9idEk1rPzHD"
   },
   "outputs": [],
   "source": [
    "def MSE (actual, predicted):\n",
    "    lst=[]\n",
    "    length = len(actual)\n",
    "    for i in range(length):\n",
    "        add2=(actual[i]-predicted[i])**2\n",
    "        lst.append(add2)\n",
    "    return sum(lst)/length"
   ]
  },
  {
   "cell_type": "markdown",
   "metadata": {
    "colab_type": "text",
    "id": "_DLHOwjeQ_3d"
   },
   "source": [
    "**Eighth** Build  Following Functions:\n",
    "\n",
    "1- `Mean()`  its input :  Values ,  its Ouput : Mean of the Values.\n",
    "2- `Variance()` its input : Values, Mean , its Output : Variance of the Values.\n",
    "\n",
    "3- `Covariance()` its input : Values of X, X_mean , y_mean ,y, its Output : Covariance of X and Y.\n",
    "\n"
   ]
  },
  {
   "cell_type": "code",
   "execution_count": 8,
   "metadata": {
    "colab": {},
    "colab_type": "code",
    "id": "fThEft4rUktb"
   },
   "outputs": [],
   "source": [
    "def Mean (values):\n",
    "    len_values=len(values)\n",
    "    add_values=sum(values)\n",
    "    return add_values/len_values\n",
    "  \n",
    "def Variance(values,mean):\n",
    "    lst=[]\n",
    "    length = len(values)\n",
    "    for i in range(length):\n",
    "        sub2=(values[i]-mean)**2\n",
    "        lst.append(sub2)\n",
    "    add=sum(lst)\n",
    "    return add/length\n",
    "def covariance(X,X_mean,y,y_mean):\n",
    "    lst=[]\n",
    "    length = len(X)\n",
    "    for i in range(length):\n",
    "        multi=((X[i]-X_mean)*(y[i]-y_mean))\n",
    "        lst.append(multi)\n",
    "    add=sum(lst)\n",
    "    return add/length"
   ]
  },
  {
   "cell_type": "code",
   "execution_count": 9,
   "metadata": {},
   "outputs": [
    {
     "name": "stdout",
     "output_type": "stream",
     "text": [
      "Mean of X_train =  21.625\n",
      "Variance of X_train =  693.784375\n",
      "Covariance of X_train and y_train =  2406.7584374999997\n"
     ]
    }
   ],
   "source": [
    "print(\"Mean of X_train = \",Mean(X_train))\n",
    "print(\"Variance of X_train = \" ,Variance(X_train,Mean(X_train)))\n",
    "print(\"Covariance of X_train and y_train = \" ,covariance(X_train,Mean(X_train),y_train,Mean(y_train)))"
   ]
  },
  {
   "cell_type": "markdown",
   "metadata": {
    "colab_type": "text",
    "id": "0iBwSUvCUsva"
   },
   "source": [
    "**Ninth** : watch out for a Sensitive Point you now need to build a Function that will use  the Previous Functions to return the Co-efficents of the Best Fit Line  which  is Beta Zero and Beta One "
   ]
  },
  {
   "cell_type": "code",
   "execution_count": 10,
   "metadata": {
    "colab": {},
    "colab_type": "code",
    "id": "wT6RKZwgyEHs"
   },
   "outputs": [],
   "source": [
    "def coefficents(X,y):\n",
    "    # hint Call Your Previous Functions over Here \n",
    "    b1 = covariance(X, Mean(X), y, Mean(y)) / Variance(X, Mean(X))\n",
    "    b0 = Mean(y) - (b1 * Mean(X))\n",
    "    return [b0, b1]"
   ]
  },
  {
   "cell_type": "code",
   "execution_count": 11,
   "metadata": {},
   "outputs": [
    {
     "data": {
      "text/plain": [
       "[11.184737873348595, 3.46902946250411]"
      ]
     },
     "execution_count": 11,
     "metadata": {},
     "output_type": "execute_result"
    }
   ],
   "source": [
    "coefficents(X_train,y_train)"
   ]
  },
  {
   "cell_type": "markdown",
   "metadata": {
    "colab_type": "text",
    "id": "UW1JGasUyPiC"
   },
   "source": [
    "**Tenth**: Build a function  that will take the Input Training Data and Testing the Data , Then call the Co efficient Function with the Training Data to get the Co efficents then use it for Building the Best fit Line and return the Predictions of the Test set \n"
   ]
  },
  {
   "cell_type": "code",
   "execution_count": 12,
   "metadata": {
    "colab": {},
    "colab_type": "code",
    "id": "EISmDwSiLqxu"
   },
   "outputs": [],
   "source": [
    "def SimpleLinearRegression(X_TRAIN,y_TRAIN,X_TEST):\n",
    "  # hint call the Previous Function\n",
    "    predictions=[]\n",
    "    b0,b1=coefficents(X_TRAIN,y_TRAIN)\n",
    "    for i in X_TEST:\n",
    "        y_pred=b0+b1*i\n",
    "        predictions.append(y_pred)\n",
    "    return predictions\n",
    "Y_pred=SimpleLinearRegression(X_train,y_train,X_test)"
   ]
  },
  {
   "cell_type": "markdown",
   "metadata": {
    "colab_type": "text",
    "id": "r9G9YH-JL0jc"
   },
   "source": [
    "**Eleventh**: Finally Build a Function that Calls The `MSE` function and the `SimpleLineRegression` Function and use it to Print the Result as an Evaluation for the model"
   ]
  },
  {
   "cell_type": "code",
   "execution_count": 13,
   "metadata": {
    "colab": {},
    "colab_type": "code",
    "id": "ak3WsQ6KM3w-"
   },
   "outputs": [
    {
     "name": "stdout",
     "output_type": "stream",
     "text": [
      "The MSE of the model is  2235.9038595957086\n",
      "The RMSE of the model is  47.28534508276014\n"
     ]
    }
   ],
   "source": [
    "def Evaluate ():\n",
    "    print(\"The MSE of the model is \", MSE(y_test,Y_pred))\n",
    "    print(\"The RMSE of the model is \", MSE(y_test,Y_pred)**0.5)\n",
    "Evaluate()"
   ]
  },
  {
   "cell_type": "markdown",
   "metadata": {
    "colab_type": "text",
    "id": "lONNIZLeM_XT"
   },
   "source": [
    "Let me Now visualize your work for you ! Just help me with the Naming"
   ]
  },
  {
   "cell_type": "code",
   "execution_count": 14,
   "metadata": {
    "colab": {},
    "colab_type": "code",
    "id": "H3OyI_SeY2pf"
   },
   "outputs": [
    {
     "data": {
      "text/plain": [
       "<function matplotlib.pyplot.show(*args, **kw)>"
      ]
     },
     "execution_count": 14,
     "metadata": {},
     "output_type": "execute_result"
    },
    {
     "data": {
      "image/png": "[encoded data removed]",
      "text/plain": [
       "<Figure size 720x576 with 1 Axes>"
      ]
     },
     "metadata": {
      "needs_background": "light"
     },
     "output_type": "display_data"
    }
   ],
   "source": [
    "import matplotlib.pyplot as plt\n",
    "plt.figure(figsize=(10,8))\n",
    "plt.title('PREDICTION VS ACTUAL ', fontsize=24 , fontstyle='italic')\n",
    "plt.plot(X_test, Y_pred, linewidth=2.0)  ## REPLACE X AND Y WITH  X_test AND PREDS ARRAYS! \n",
    "plt.scatter(X_test,y_test,alpha=0.5,label='Y')\n",
    "plt.show"
   ]
  }
 ],
 "metadata": {
  "colab": {
   "collapsed_sections": [],
   "name": "Simple Linear Regression.ipynb",
   "provenance": []
  },
  "kernelspec": {
   "display_name": "Python 3",
   "language": "python",
   "name": "python3"
  },
  "language_info": {
   "codemirror_mode": {
    "name": "ipython",
    "version": 3
   },
   "file_extension": ".py",
   "mimetype": "text/x-python",
   "name": "python",
   "nbconvert_exporter": "python",
   "pygments_lexer": "ipython3",
   "version": "3.7.4"
  }
 },
 "nbformat": 4,
 "nbformat_minor": 1
}
